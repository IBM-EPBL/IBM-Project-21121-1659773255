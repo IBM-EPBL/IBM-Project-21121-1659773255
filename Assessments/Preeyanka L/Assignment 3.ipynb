{
  "cells": [
    {
      "cell_type": "markdown",
      "metadata": {
        "id": "fwU2iooz85jt"
      },
      "source": [
        "## Exercises\n",
        "\n",
        "Answer the questions or complete the tasks outlined in bold below, use the specific method described if applicable."
      ]
    },
    {
      "cell_type": "markdown",
      "metadata": {
        "id": "SzBQQ_ml85j1"
      },
      "source": [
        "** What is 7 to the power of 4?**"
      ]
    },
    {
      "cell_type": "code",
      "execution_count": null,
      "metadata": {
        "id": "UhvE4PBC85j3",
        "outputId": "d48623a0-d8bc-478f-cf83-e0233bc2c28b",
        "colab": {
          "base_uri": "https://localhost:8080/"
        }
      },
      "outputs": [
        {
          "output_type": "stream",
          "name": "stdout",
          "text": [
            "2401\n"
          ]
        }
      ],
      "source": [
        "print(7**4)"
      ]
    },
    {
      "cell_type": "markdown",
      "metadata": {
        "id": "ds8G9S8j85j6"
      },
      "source": [
        "** Split this string:**\n",
        "\n",
        "    s = \"Hi there Sam!\"\n",
        "    \n",
        "**into a list. **"
      ]
    },
    {
      "cell_type": "code",
      "execution_count": null,
      "metadata": {
        "collapsed": true,
        "id": "GD_Tls3H85j7",
        "colab": {
          "base_uri": "https://localhost:8080/"
        },
        "outputId": "2c9327bd-9c31-4f9a-9392-549a903db5d2"
      },
      "outputs": [
        {
          "output_type": "stream",
          "name": "stdout",
          "text": [
            "['Hi', 'there', 'Sam!']\n"
          ]
        }
      ],
      "source": [
        "s = \"Hi there Sam!\"\n",
        "x = s.split()\n",
        "print(x)"
      ]
    },
    {
      "cell_type": "code",
      "execution_count": null,
      "metadata": {
        "id": "RRGOKoai85j8",
        "outputId": "4ed13ff7-e2fd-4239-96bc-13ac1dcaaf48",
        "colab": {
          "base_uri": "https://localhost:8080/"
        }
      },
      "outputs": [
        {
          "output_type": "stream",
          "name": "stdout",
          "text": [
            "['Hi', 'there', 'dad!']\n"
          ]
        }
      ],
      "source": [
        "s = \"Hi there dad!\"\n",
        "x = s.split()\n",
        "print(x)"
      ]
    },
    {
      "cell_type": "markdown",
      "metadata": {
        "id": "_bBNOu-785j9"
      },
      "source": [
        "** Given the variables:**\n",
        "\n",
        "    planet = \"Earth\"\n",
        "    diameter = 12742\n",
        "\n",
        "** Use .format() to print the following string: **\n",
        "\n",
        "    The diameter of Earth is 12742 kilometers."
      ]
    },
    {
      "cell_type": "code",
      "execution_count": null,
      "metadata": {
        "collapsed": true,
        "id": "2TrzmDcS85j-"
      },
      "outputs": [],
      "source": [
        "txt = \"The diameter of {planet} is {diameter} kilometers.\".format(planet = \"Earth\", diameter = 12742)"
      ]
    },
    {
      "cell_type": "code",
      "execution_count": null,
      "metadata": {
        "id": "s_dQ7_xc85j_"
      },
      "outputs": [],
      "source": [
        "txt = \"The diameter of {0} is {1} kilometers.\".format(\"Earth\", 12742)"
      ]
    },
    {
      "cell_type": "markdown",
      "metadata": {
        "id": "QAKtN7Hh85kB"
      },
      "source": [
        "** Given this nested list, use indexing to grab the word \"hello\" **"
      ]
    },
    {
      "cell_type": "code",
      "execution_count": null,
      "metadata": {
        "collapsed": true,
        "id": "-7dzQDyK85kD"
      },
      "outputs": [],
      "source": [
        "lst = [1,2,[3,4],[5,[100,200,['hello']],23,11],1,7]"
      ]
    },
    {
      "cell_type": "code",
      "execution_count": null,
      "metadata": {
        "id": "6m5C0sTW85kE",
        "outputId": "2f8b8be5-b996-4991-ed8b-f1d4d8dab083",
        "colab": {
          "base_uri": "https://localhost:8080/"
        }
      },
      "outputs": [
        {
          "output_type": "stream",
          "name": "stdout",
          "text": [
            "['hello']\n"
          ]
        }
      ],
      "source": [
        "lst = [1, 2, [3, 4], [5, [100, 200, ['hello']], 23, 11], 1, 7]\n",
        "a = lst[3][1][2]\n",
        "print(a)"
      ]
    },
    {
      "cell_type": "markdown",
      "metadata": {
        "id": "9Ma7M4a185kF"
      },
      "source": [
        "** Given this nest dictionary grab the word \"hello\". Be prepared, this will be annoying/tricky **"
      ]
    },
    {
      "cell_type": "code",
      "execution_count": null,
      "metadata": {
        "id": "vrYAxSYN85kG"
      },
      "outputs": [],
      "source": [
        "d = {'k1':[1,2,3,{'tricky':['oh','man','inception',{'target':[1,2,3,'hello']}]}]}"
      ]
    },
    {
      "cell_type": "code",
      "execution_count": null,
      "metadata": {
        "id": "FlILSdm485kH",
        "outputId": "ad6008fc-2979-4fd1-eb17-7ea41d1c8f2c",
        "colab": {
          "base_uri": "https://localhost:8080/"
        }
      },
      "outputs": [
        {
          "output_type": "stream",
          "name": "stdout",
          "text": [
            "hello\n"
          ]
        }
      ],
      "source": [
        "d = {'k1':[1,2,3,{'tricky':['oh','man','inception',{'target':[1,2,3,'hello']}]}]}\n",
        "print(d['k1'][3][\"tricky\"][3]['target'][3])"
      ]
    },
    {
      "cell_type": "markdown",
      "metadata": {
        "id": "FInV_FKB85kI"
      },
      "source": [
        "** What is the main difference between a tuple and a list? **"
      ]
    },
    {
      "cell_type": "code",
      "execution_count": null,
      "metadata": {
        "collapsed": true,
        "id": "_VBWf00q85kJ"
      },
      "outputs": [],
      "source": [
        "#Tuple is immutable.\n",
        "#Tuples operations are safe.\n",
        "#Tuples consumes less memory."
      ]
    },
    {
      "cell_type": "markdown",
      "metadata": {
        "id": "zP-j0HZj85kK"
      },
      "source": [
        "** Create a function that grabs the email website domain from a string in the form: **\n",
        "\n",
        "    user@domain.com\n",
        "    \n",
        "**So for example, passing \"user@domain.com\" would return: domain.com**"
      ]
    },
    {
      "cell_type": "code",
      "execution_count": null,
      "metadata": {
        "collapsed": true,
        "id": "unvEAwjk85kL",
        "colab": {
          "base_uri": "https://localhost:8080/"
        },
        "outputId": "e456f147-b99b-4b71-841e-76d2a228db72"
      },
      "outputs": [
        {
          "output_type": "stream",
          "name": "stdout",
          "text": [
            "Please enter your email: >user@domain.com\n",
            "Your domain is: domain.com\n"
          ]
        }
      ],
      "source": [
        "def domainGet(email):\n",
        "    print(\"Your domain is: \" + email.split('@')[-1])\n",
        "\n",
        "email = input(\"Please enter your email: >\")\n",
        "domainGet(email)"
      ]
    },
    {
      "cell_type": "code",
      "execution_count": null,
      "metadata": {
        "id": "Gb9dspLC85kL",
        "outputId": "cadd3ba7-ae5c-4345-98bb-2b0809fb240c",
        "colab": {
          "base_uri": "https://localhost:8080/"
        }
      },
      "outputs": [
        {
          "output_type": "stream",
          "name": "stdout",
          "text": [
            "Your domain is: domain.com\n"
          ]
        }
      ],
      "source": [
        "domainGet('user@domain.com')"
      ]
    },
    {
      "cell_type": "markdown",
      "metadata": {
        "id": "gYydb-y085kM"
      },
      "source": [
        "** Create a basic function that returns True if the word 'dog' is contained in the input string. Don't worry about edge cases like a punctuation being attached to the word dog, but do account for capitalization. **"
      ]
    },
    {
      "cell_type": "code",
      "execution_count": null,
      "metadata": {
        "collapsed": true,
        "id": "Q4ldLGV785kM",
        "colab": {
          "base_uri": "https://localhost:8080/"
        },
        "outputId": "36c74016-0839-47a7-f402-a6e2cff692a1"
      },
      "outputs": [
        {
          "output_type": "stream",
          "name": "stdout",
          "text": [
            "True\n"
          ]
        }
      ],
      "source": [
        "def findDog(st):\n",
        "    if 'dog' in st.lower():\n",
        "        print(\"True\")\n",
        "    else:\n",
        "        print(\"False\")\n",
        "\n",
        "st = \"Is there a dog here?\"\n",
        "findDog(st)"
      ]
    },
    {
      "cell_type": "code",
      "execution_count": null,
      "metadata": {
        "id": "EqH6b7yv85kN",
        "outputId": "c9a12fe6-db95-423b-9965-d1a27b4a27f4",
        "colab": {
          "base_uri": "https://localhost:8080/"
        }
      },
      "outputs": [
        {
          "output_type": "stream",
          "name": "stdout",
          "text": [
            "True\n"
          ]
        }
      ],
      "source": [
        "findDog('Is there a dog here?')"
      ]
    },
    {
      "cell_type": "markdown",
      "metadata": {
        "id": "AyHQFALC85kO"
      },
      "source": [
        "** Create a function that counts the number of times the word \"dog\" occurs in a string. Again ignore edge cases. **"
      ]
    },
    {
      "cell_type": "code",
      "execution_count": null,
      "metadata": {
        "id": "6hdc169585kO",
        "colab": {
          "base_uri": "https://localhost:8080/"
        },
        "outputId": "9c39c3ed-b252-49ed-fb2e-c29ca7e74e79"
      },
      "outputs": [
        {
          "output_type": "stream",
          "name": "stdout",
          "text": [
            "2\n"
          ]
        }
      ],
      "source": [
        "value = 'This dog runs faster than the other dog dude!';\n",
        "\n",
        "def countdogs(value):\n",
        "    count = 0\n",
        "    for word in value.lower().split():\n",
        "        if word == 'dog' or word == 'dogs':\n",
        "            count = count + 1\n",
        "    print(count)\n",
        "\n",
        "countdogs(value)"
      ]
    },
    {
      "cell_type": "code",
      "execution_count": null,
      "metadata": {
        "id": "igzsvHb385kO",
        "outputId": "0602a2b5-0b18-48d8-e2d4-fe644cbccf8a"
      },
      "outputs": [
        {
          "data": {
            "text/plain": [
              "2"
            ]
          },
          "execution_count": 31,
          "metadata": {
            "tags": []
          },
          "output_type": "execute_result"
        }
      ],
      "source": []
    },
    {
      "cell_type": "markdown",
      "metadata": {
        "id": "3n7jJt4k85kP"
      },
      "source": [
        "### Problem\n",
        "**You are driving a little too fast, and a police officer stops you. Write a function\n",
        "  to return one of 3 possible results: \"No ticket\", \"Small ticket\", or \"Big Ticket\". \n",
        "  If your speed is 60 or less, the result is \"No Ticket\". If speed is between 61 \n",
        "  and 80 inclusive, the result is \"Small Ticket\". If speed is 81 or more, the result is \"Big    Ticket\". Unless it is your birthday (encoded as a boolean value in the parameters of the function) -- on your birthday, your speed can be 5 higher in all \n",
        "  cases. **"
      ]
    },
    {
      "cell_type": "code",
      "execution_count": null,
      "metadata": {
        "collapsed": true,
        "id": "nvXMkvWk85kQ"
      },
      "outputs": [],
      "source": [
        "def caught_speeding(speed, is_birthday):\n",
        "    \n",
        "    if is_birthday:\n",
        "        speeding = speed - 5\n",
        "    else:\n",
        "        speeding = speed\n",
        "    \n",
        "    if speeding > 80:\n",
        "        return 'Big Ticket'\n",
        "    elif speeding > 60:\n",
        "        return 'Small Ticket'\n",
        "    else:\n",
        "        return 'No Ticket'"
      ]
    },
    {
      "cell_type": "code",
      "execution_count": null,
      "metadata": {
        "id": "BU_UZcyk85kS",
        "outputId": "fdffc9b8-693b-41b8-e7f6-3bee7d836eba",
        "colab": {
          "base_uri": "https://localhost:8080/",
          "height": 36
        }
      },
      "outputs": [
        {
          "output_type": "execute_result",
          "data": {
            "text/plain": [
              "'Big Ticket'"
            ],
            "application/vnd.google.colaboratory.intrinsic+json": {
              "type": "string"
            }
          },
          "metadata": {},
          "execution_count": 23
        }
      ],
      "source": [
        "def caught_speeding(speed, is_birthday):\n",
        "    \n",
        "    if is_birthday:\n",
        "        speeding = speed - 5\n",
        "    else:\n",
        "        speeding = speed\n",
        "    \n",
        "    if speeding > 80:\n",
        "        return 'Big Ticket'\n",
        "    elif speeding > 60:\n",
        "        return 'Small Ticket'\n",
        "    else:\n",
        "        return 'No Ticket'\n",
        "caught_speeding(90, 5)"
      ]
    },
    {
      "cell_type": "code",
      "execution_count": null,
      "metadata": {
        "id": "p1AGJ7DM85kR",
        "outputId": "958f4102-96f0-4c86-cd5d-5b60486a5acf",
        "colab": {
          "base_uri": "https://localhost:8080/",
          "height": 36
        }
      },
      "outputs": [
        {
          "output_type": "execute_result",
          "data": {
            "text/plain": [
              "'Small Ticket'"
            ],
            "application/vnd.google.colaboratory.intrinsic+json": {
              "type": "string"
            }
          },
          "metadata": {},
          "execution_count": 24
        }
      ],
      "source": [
        "def caught_speeding(speed, is_birthday):\n",
        "    \n",
        "    if is_birthday:\n",
        "        speeding = speed - 5\n",
        "    else:\n",
        "        speeding = speed\n",
        "    \n",
        "    if speeding > 80:\n",
        "        return 'Big Ticket'\n",
        "    elif speeding > 60:\n",
        "        return 'Small Ticket'\n",
        "    else:\n",
        "        return 'No Ticket'\n",
        "caught_speeding(80, 5)"
      ]
    },
    {
      "cell_type": "markdown",
      "source": [
        "Create an employee list with basic salary values(at least 5 values for 5 employees)  and using a for loop retreive each employee salary and calculate total salary expenditure. "
      ],
      "metadata": {
        "id": "Tie4rC7_kAOC"
      }
    },
    {
      "cell_type": "code",
      "source": [
        "sal=[1000,2000,3000,4000,5000]\n",
        "total_sal=0\n",
        "for i in sal:\n",
        "    print(i)\n",
        "    total_sal+=i\n",
        "print(total_sal)"
      ],
      "metadata": {
        "id": "R5-CdXSKjacN",
        "colab": {
          "base_uri": "https://localhost:8080/"
        },
        "outputId": "78b3e481-2a7f-46eb-8478-00d1927a4228"
      },
      "execution_count": 1,
      "outputs": [
        {
          "output_type": "stream",
          "name": "stdout",
          "text": [
            "1000\n",
            "2000\n",
            "3000\n",
            "4000\n",
            "5000\n",
            "15000\n"
          ]
        }
      ]
    },
    {
      "cell_type": "markdown",
      "source": [
        "Create two dictionaries in Python:\n",
        "\n",
        "First one to contain fields as Empid,  Empname,  Basicpay\n",
        "\n",
        "Second dictionary to contain fields as DeptName,  DeptId.\n",
        "\n",
        "Combine both dictionaries. "
      ],
      "metadata": {
        "id": "-L1aiFqRkF5s"
      }
    },
    {
      "cell_type": "code",
      "source": [
        "dict_1 = {'Empid': 101, 'Empname': 'John', 'Basicpay': 10000}\n",
        "dict_2 = {'DeptName' : 'Marketing', 'DeptId': 1005}\n",
        "dict_1.update(dict_2)\n",
        "print(dict_1)"
      ],
      "metadata": {
        "id": "8ugVoEe0kOsk",
        "colab": {
          "base_uri": "https://localhost:8080/"
        },
        "outputId": "90b44149-1d6a-46d2-f136-7800c23bbee6"
      },
      "execution_count": null,
      "outputs": [
        {
          "output_type": "stream",
          "name": "stdout",
          "text": [
            "{'Empid': 101, 'Empname': 'John', 'Basicpay': 10000, 'DeptName': 'Marketing', 'DeptId': 1005}\n"
          ]
        }
      ]
    }
  ],
  "metadata": {
    "colab": {
      "provenance": [],
      "collapsed_sections": []
    },
    "kernelspec": {
      "display_name": "Python 3",
      "language": "python",
      "name": "python3"
    },
    "language_info": {
      "codemirror_mode": {
        "name": "ipython",
        "version": 3
      },
      "file_extension": ".py",
      "mimetype": "text/x-python",
      "name": "python",
      "nbconvert_exporter": "python",
      "pygments_lexer": "ipython3",
      "version": "3.8.5"
    }
  },
  "nbformat": 4,
  "nbformat_minor": 0
}